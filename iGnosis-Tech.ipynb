{
  "nbformat": 4,
  "nbformat_minor": 0,
  "metadata": {
    "colab": {
      "provenance": [],
      "authorship_tag": "ABX9TyP/fRn7FwBHHboC5AKWGEQz",
      "include_colab_link": true
    },
    "kernelspec": {
      "name": "python3",
      "display_name": "Python 3"
    },
    "language_info": {
      "name": "python"
    }
  },
  "cells": [
    {
      "cell_type": "markdown",
      "metadata": {
        "id": "view-in-github",
        "colab_type": "text"
      },
      "source": [
        "<a href=\"https://colab.research.google.com/github/Divyanshusingh1409/iGnosis-Tech/blob/main/iGnosis-Tech.ipynb\" target=\"_parent\"><img src=\"https://colab.research.google.com/assets/colab-badge.svg\" alt=\"Open In Colab\"/></a>"
      ]
    },
    {
      "cell_type": "code",
      "execution_count": 3,
      "metadata": {
        "colab": {
          "base_uri": "https://localhost:8080/"
        },
        "id": "STz5flA6bUPM",
        "outputId": "d559604b-54e2-4caf-9a2f-0b3a3793583d"
      },
      "outputs": [
        {
          "output_type": "stream",
          "name": "stdout",
          "text": [
            "Top 3 Most Profitable Products:\n",
            "      STORE_NBR  TOT_SALES\n",
            "225        226   18905.45\n",
            "87          88   16333.25\n",
            "164        165   15973.75\n",
            "Top Customer Segments:\n",
            "                                 PROD_NAME  PROD_NBR  PROD_QTY  count\n",
            "203  Kettle Tortilla ChpsFeta&Garlic 150g        60         2    238\n",
            "479         Tostitos Splash Of  Lime 175g        74         2    237\n",
            "469       Tostitos Lightly    Salted 175g        50         2    236\n"
          ]
        }
      ],
      "source": [
        "import pandas as pd\n",
        "\n",
        "def analyze_transactions(file_path):\n",
        "    # Load dataset\n",
        "    df = pd.read_csv('/content/transaction_data.csv')\n",
        "\n",
        "    # Ensure necessary columns exist\n",
        "    required_columns = {'DATE', 'STORE_NBR', 'LYLTY_CARD_NBR', 'TXN_ID', 'PROD_NBR', 'PROD_NAME', 'PROD_QTY', 'TOT_SALES'}\n",
        "    if not required_columns.issubset(df.columns):\n",
        "\n",
        "      raise ValueError(\"Dataset is missing required columns\")\n",
        "\n",
        "    # Compute profitability per product\n",
        "    product_profit = df.groupby('STORE_NBR')['TOT_SALES'].sum().reset_index()\n",
        "    product_profit = product_profit.sort_values(by='TOT_SALES', ascending=False)\n",
        "\n",
        "    top_3_products = product_profit.head(3)\n",
        "\n",
        "    # Identifying loyal customers (repeat purchases)\n",
        "    customer_purchases = df.groupby('STORE_NBR').size().reset_index(name='purchase_count')\n",
        "    loyal_customers = customer_purchases[customer_purchases['purchase_count'] > 1]\n",
        "\n",
        "    # Merging with customer details\n",
        "    loyal_customer_details = loyal_customers.merge(df[['STORE_NBR', 'PROD_NAME', 'PROD_NBR', 'PROD_QTY']].drop_duplicates(), on='STORE_NBR', how='left')\n",
        "\n",
        "    # Finding most common traits\n",
        "    customer_segments = loyal_customer_details.groupby(['PROD_NAME', 'PROD_NBR', 'PROD_QTY']).size().reset_index(name='count')\n",
        "    customer_segments = customer_segments.sort_values(by='count', ascending=False)\n",
        "\n",
        "    return top_3_products, customer_segments.head(3)\n",
        "\n",
        "# Example usage\n",
        "file_path = 'transactions_data.csv'  # Replace with your actual file path\n",
        "top_products, loyal_segments = analyze_transactions('transactions_data.csv')\n",
        "loyal_customers = analyze_transactions('/content/purchase_behaviour.csv')\n",
        "print(\"Top 3 Most Profitable Products:\\n\", top_products)\n",
        "print(\"Top Customer Segments:\\n\", loyal_segments)"
      ]
    }
  ]
}