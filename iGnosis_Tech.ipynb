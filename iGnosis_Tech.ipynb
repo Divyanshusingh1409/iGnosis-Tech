import pandas as pd

def analyze_transactions(file_path):
    # Load dataset
    df = pd.read_csv('/content/transaction_data.csv')

    # Ensure necessary columns exist
    required_columns = {'DATE', 'STORE_NBR', 'LYLTY_CARD_NBR', 'TXN_ID', 'PROD_NBR', 'PROD_NAME', 'PROD_QTY', 'TOT_SALES'}
    if not required_columns.issubset(df.columns):

      raise ValueError("Dataset is missing required columns")

    # Compute profitability per product
    product_profit = df.groupby('STORE_NBR')['TOT_SALES'].sum().reset_index()
    product_profit = product_profit.sort_values(by='TOT_SALES', ascending=False)

    top_3_products = product_profit.head(3)

    # Identifying loyal customers (repeat purchases)
    customer_purchases = df.groupby('STORE_NBR').size().reset_index(name='purchase_count')
    loyal_customers = customer_purchases[customer_purchases['purchase_count'] > 1]

    # Merging with customer details
    loyal_customer_details = loyal_customers.merge(df[['STORE_NBR', 'PROD_NAME', 'PROD_NBR', 'PROD_QTY']].drop_duplicates(), on='STORE_NBR', how='left')

    # Finding most common traits
    customer_segments = loyal_customer_details.groupby(['PROD_NAME', 'PROD_NBR', 'PROD_QTY']).size().reset_index(name='count')
    customer_segments = customer_segments.sort_values(by='count', ascending=False)

    return top_3_products, customer_segments.head(3)

# Example usage
file_path = 'transactions_data.csv'  # Replace with your actual file path
top_products, loyal_segments = analyze_transactions('transactions_data.csv')
print("Top 3 Most Profitable Products:\n", top_products)
print("Top Customer Segments:\n", loyal_segments)
